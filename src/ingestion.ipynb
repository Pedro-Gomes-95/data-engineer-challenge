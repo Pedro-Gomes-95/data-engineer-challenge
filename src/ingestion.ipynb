{
 "cells": [
  {
   "cell_type": "code",
   "execution_count": 1,
   "id": "a4cf7a2e",
   "metadata": {},
   "outputs": [],
   "source": [
    "import os\n",
    "import json\n",
    "import requests\n",
    "import logging\n",
    "import pandas as pd\n",
    "\n",
    "from dotenv import load_dotenv\n",
    "from pydantic import ValidationError\n",
    "from utils.input_configuration import APIClientInputConfiguration\n",
    "\n",
    "logger = logging.getLogger(\"ingestion_logger\")\n",
    "logger.setLevel(logging.INFO)"
   ]
  },
  {
   "cell_type": "code",
   "execution_count": 2,
   "id": "3a9bbc69",
   "metadata": {},
   "outputs": [],
   "source": [
    "# Read the configuration file\n",
    "logger.info(\"Loading configuration file...\")\n",
    "\n",
    "with open(\"../config/config_file.json\", \"r\") as file:\n",
    "    config = json.load(file)\n",
    "\n",
    "api_configuration = config.get(\"api\", {})\n",
    "city_configuration = config.get(\"cities\", [])\n",
    "\n",
    "logger.info(\"Configuration file loaded successfully.\")\n",
    "\n",
    "# Load the environment variables from the env file\n",
    "logger.info(\"Loading content from .env file\")\n",
    "\n",
    "if not load_dotenv(\"../.env\"):\n",
    "    raise FileNotFoundError(\"Could not find the .env file.\")\n",
    "else:\n",
    "    load_dotenv(\"../.env\")\n",
    "\n",
    "    api_key = os.getenv(\"API_KEY\")\n",
    "    if not api_key:\n",
    "        raise ValueError(\"API_KEY not found in the .env file.\")\n",
    "\n",
    "    raw_files_path = os.getenv(\"RAW_FILES_PATH\")\n",
    "    if not raw_files_path:\n",
    "        raw_files_path = \"../data/files\"\n",
    "        logger.warning(\n",
    "            f\"RAW_FILES_PATH not found in the .env file, using {raw_files_path}.\"\n",
    "        )\n",
    "\n",
    "logger.info(\".env file loaded successfully.\")\n",
    "\n",
    "#CREATE THE RAW FILES DIRECTORY IF IT DOES NOT EXIST"
   ]
  },
  {
   "cell_type": "code",
   "execution_count": 3,
   "id": "95b1ad24",
   "metadata": {},
   "outputs": [],
   "source": [
    "class APIClient:\n",
    "    def __init__(\n",
    "        self,\n",
    "        base_url: str,\n",
    "        api_key: str,\n",
    "        units: str = \"metric\",\n",
    "        language: str = \"en\",\n",
    "        logger: logging.Logger = None,\n",
    "    ):\n",
    "        self.logger = (\n",
    "            logger\n",
    "            if isinstance(logger, logging.Logger)\n",
    "            else logging.getLogger(__name__)\n",
    "        )\n",
    "        self.logger.info(\"Validating input parameters\")\n",
    "\n",
    "        try:\n",
    "            APIClientInputConfiguration(\n",
    "                base_url=base_url,\n",
    "                api_key=api_key,\n",
    "                units=units,\n",
    "                language=language,\n",
    "            )\n",
    "        except ValidationError as e:\n",
    "            self.logger.error(f\"Validation error: {e}\")\n",
    "            raise\n",
    "\n",
    "        self.base_url = base_url\n",
    "        self.api_key = api_key\n",
    "        self.units = units\n",
    "        self.language = language\n",
    "\n",
    "        self.logger.info(\"Input parameters validated successfully.\")\n",
    "\n",
    "    def build_request_url(self, city: dict) -> str:\n",
    "        if not isinstance(city, dict):\n",
    "            raise TypeError(\n",
    "                f\"Expected 'city' to be a dictionary, but got: {type(city).__name__} instead\"\n",
    "            )\n",
    "\n",
    "        city_name = city.get(\"name\")\n",
    "\n",
    "        if city_name:\n",
    "            self.logger.info(\"City name provided, building URL with city name.\")\n",
    "            request_url = f\"{self.base_url}?q={city_name}&appid={api_key}&units={self.units}&lang={self.language}\"\n",
    "        else:\n",
    "            raise ValueError(\"No valid city information provided.\")\n",
    "\n",
    "        return request_url\n",
    "\n",
    "    def fetch_data(self, city: dict) -> dict:\n",
    "        self.logger.info(\"Fetching data from API\")\n",
    "        request_url = self.build_request_url(city)\n",
    "        response = requests.get(request_url)\n",
    "\n",
    "        if response.status_code != 200:\n",
    "            raise Exception(\n",
    "                f\"Error fetching data: {response.status_code} - {response.text}\"\n",
    "            )\n",
    "\n",
    "        self.logger.info(\"Data fetched successfully.\")\n",
    "        return response.json()"
   ]
  },
  {
   "cell_type": "code",
   "execution_count": 4,
   "id": "2f1491d6",
   "metadata": {},
   "outputs": [
    {
     "name": "stderr",
     "output_type": "stream",
     "text": [
      "INFO:ingestion_logger:Fetching data from API\n",
      "INFO:ingestion_logger:City name provided, building URL with city name.\n",
      "INFO:ingestion_logger:Data fetched successfully.\n"
     ]
    }
   ],
   "source": [
    "# Create the API Client\n",
    "api_client = APIClient(\n",
    "    base_url=api_configuration.get(\n",
    "        \"base_url\", \"https://api.openweathermap.org/data/2.5/weather\"\n",
    "    ),\n",
    "    api_key=api_key,\n",
    "    units=api_configuration.get(\"units\", \"metric\"),\n",
    "    language=api_configuration.get(\"language\", \"en\"),\n",
    "    logger=logger,\n",
    ")\n",
    "\n",
    "# Fetch the data\n",
    "for city in city_configuration:\n",
    "    city_data = api_client.fetch_data(city=city)\n",
    "\n",
    "    city_name = city_data.get(\"name\")\n",
    "    measurement_timestamp_unix = city_data.get(\"dt\", 0)\n",
    "    measurement_timestamp_string = pd.to_datetime(\n",
    "        measurement_timestamp_unix, unit=\"s\"\n",
    "    ).strftime(\"%Y%m%d_%H%M%S\")\n",
    "\n",
    "    # Check if the directory that will store the files exists\n",
    "    path = f\"{raw_files_path}/{city_name}\"\n",
    "\n",
    "    try:\n",
    "        os.makedirs(path)\n",
    "        logging.info(f\"Creating directory {path}\")\n",
    "    except FileExistsError:\n",
    "        logging.info(f\"Directory {path} already exists.\")\n",
    "\n",
    "    file_path = f\"{path}/{measurement_timestamp_string}_{city_name}.json\"\n",
    "\n",
    "    with open(file_path, \"w\") as file:\n",
    "        json.dump(city_data, file, indent=4)\n",
    "\n",
    "    logging.info(f\"Data file {file_path} created successfully\")"
   ]
  },
  {
   "cell_type": "code",
   "execution_count": 7,
   "id": "c5ee79fc",
   "metadata": {},
   "outputs": [
    {
     "data": {
      "text/plain": [
       "'data/files/Braga/20250725_205151_Braga.json'"
      ]
     },
     "execution_count": 7,
     "metadata": {},
     "output_type": "execute_result"
    }
   ],
   "source": [
    "file_path"
   ]
  }
 ],
 "metadata": {
  "kernelspec": {
   "display_name": "mbio",
   "language": "python",
   "name": "python3"
  },
  "language_info": {
   "codemirror_mode": {
    "name": "ipython",
    "version": 3
   },
   "file_extension": ".py",
   "mimetype": "text/x-python",
   "name": "python",
   "nbconvert_exporter": "python",
   "pygments_lexer": "ipython3",
   "version": "3.10.18"
  }
 },
 "nbformat": 4,
 "nbformat_minor": 5
}
